{
 "cells": [
  {
   "cell_type": "markdown",
   "id": "4f3acc59-ce36-4dbe-b40f-477f9e513008",
   "metadata": {
    "jupyter": {
     "source_hidden": true
    }
   },
   "source": [
    "# 📊 Placement Data Analysis using Pandas"
   ]
  },
  {
   "cell_type": "markdown",
   "id": "4dd8ecad-1e7a-4717-bce8-7103438a28b8",
   "metadata": {
    "jp-MarkdownHeadingCollapsed": true,
    "jupyter": {
     "source_hidden": true
    }
   },
   "source": [
    "## 🎯 Objective\n",
    "-To understand the factors affecting the placement and salary of students."
   ]
  },
  {
   "cell_type": "markdown",
   "id": "451d7933-51b5-4993-954a-5f55230c32bc",
   "metadata": {
    "jp-MarkdownHeadingCollapsed": true,
    "jupyter": {
     "source_hidden": true
    }
   },
   "source": [
    "## 📁 Dataset\n",
    "- 215 students\n",
    "- Columns: gender, academic percentages, work experience, specialisation, status, salary"
   ]
  },
  {
   "cell_type": "markdown",
   "id": "7bad3cc5-195d-47fc-aecf-48b98431ad36",
   "metadata": {
    "jupyter": {
     "source_hidden": true
    }
   },
   "source": [
    "## 🔍 Analysis Performed\n",
    "- Salary distribution and outliers\n",
    "- Gender-wise placement\n",
    "- Work experience impact\n",
    "- Top MBA performers\n",
    "- Outlier detection using IQR"
   ]
  },
  {
   "cell_type": "markdown",
   "id": "cb5465cb-290d-4c5c-a1e7-3e7ffc325cf0",
   "metadata": {
    "jupyter": {
     "source_hidden": true
    }
   },
   "source": [
    "## 📌 Key Insights\n",
    "- Students with work experience had higher placement rates\n",
    "- No salary outliers detected using IQR method\n",
    "- Top salary was ₹940000.0, earned by a student with a Mkt&Fin profile"
   ]
  },
  {
   "cell_type": "markdown",
   "id": "dff190a4-5808-4ec1-a2d8-ddc10e6a4a0b",
   "metadata": {
    "jupyter": {
     "source_hidden": true
    }
   },
   "source": [
    "## ✅ Conclusion\n",
    "This analysis shows that multiple academic and personal factors influence placement chances. Future analysis can include prediction models."
   ]
  },
  {
   "cell_type": "code",
   "execution_count": 101,
   "id": "b288c1e2-6a7d-4449-aff5-c33349a05304",
   "metadata": {},
   "outputs": [],
   "source": [
    "# analysis starts from here"
   ]
  },
  {
   "cell_type": "markdown",
   "id": "6741e393-3100-4d4f-b26b-b8a8dd76ce18",
   "metadata": {
    "jupyter": {
     "source_hidden": true
    }
   },
   "source": [
    "## importing pandas"
   ]
  },
  {
   "cell_type": "code",
   "execution_count": 1,
   "id": "fca8da96-2ef9-4a34-b2f4-9eccc83a1975",
   "metadata": {
    "jupyter": {
     "source_hidden": true
    }
   },
   "outputs": [],
   "source": [
    "import pandas as pd"
   ]
  },
  {
   "cell_type": "markdown",
   "id": "d590c915-a97a-411b-bc41-101eed1b9884",
   "metadata": {
    "jupyter": {
     "source_hidden": true
    }
   },
   "source": [
    "## Reading the csv file"
   ]
  },
  {
   "cell_type": "code",
   "execution_count": 5,
   "id": "587fb9b6-a3f8-443c-ad56-ba565d9eeb4b",
   "metadata": {
    "jupyter": {
     "source_hidden": true
    }
   },
   "outputs": [],
   "source": [
    "d=pd.read_csv(\"C:\\\\Users\\\\SHAIK MOHAMMAD KHAIF\\\\Desktop\\\\data sets\\\\Placement_Data_Full_Class.csv\")\n",
    "df=pd.DataFrame(d)"
   ]
  },
  {
   "cell_type": "markdown",
   "id": "338e9a7f-5bc3-4bac-977c-8c4dcd1cf0f9",
   "metadata": {
    "jupyter": {
     "source_hidden": true
    },
    "scrolled": true
   },
   "source": [
    "df"
   ]
  },
  {
   "cell_type": "markdown",
   "id": "25b9056c-8944-474a-bf3a-92c6c154c975",
   "metadata": {
    "jupyter": {
     "source_hidden": true
    }
   },
   "source": [
    "# checking if there are any duplicates "
   ]
  },
  {
   "cell_type": "code",
   "execution_count": null,
   "id": "78be1dc2-4e17-4d59-9efb-fdbe40cf32e0",
   "metadata": {
    "jupyter": {
     "source_hidden": true
    },
    "scrolled": true
   },
   "outputs": [],
   "source": [
    "df.duplicated()                   #to checke whether there are any duplicats are not"
   ]
  },
  {
   "cell_type": "markdown",
   "id": "cc0c62be-df82-44b8-8ce9-381e727552ba",
   "metadata": {
    "jupyter": {
     "source_hidden": true
    }
   },
   "source": [
    " ## Average salary of the students who graduated from the college"
   ]
  },
  {
   "cell_type": "code",
   "execution_count": null,
   "id": "69213652-e846-4193-8c85-fa369d2ed63e",
   "metadata": {},
   "outputs": [],
   "source": [
    "df[\"salary\"].mean()         "
   ]
  },
  {
   "cell_type": "markdown",
   "id": "75f13e5f-a1d1-4349-b215-44d29cc47216",
   "metadata": {
    "jupyter": {
     "source_hidden": true
    }
   },
   "source": [
    " ## Maximum salary of the student from the college"
   ]
  },
  {
   "cell_type": "code",
   "execution_count": null,
   "id": "7620e582-827e-4fe6-b68e-77338673ff9e",
   "metadata": {
    "jupyter": {
     "source_hidden": true
    }
   },
   "outputs": [],
   "source": [
    "max=df[\"salary\"].max()   \n",
    "max"
   ]
  },
  {
   "cell_type": "markdown",
   "id": "8e078950-8c04-4118-a966-a2181db725a1",
   "metadata": {
    "jupyter": {
     "source_hidden": true
    }
   },
   "source": [
    "## Minimum salary of the student from the college"
   ]
  },
  {
   "cell_type": "code",
   "execution_count": null,
   "id": "4c761411-128a-4420-8264-6f1d3a65cfab",
   "metadata": {
    "jupyter": {
     "source_hidden": true
    }
   },
   "outputs": [],
   "source": [
    "min=df[\"salary\"].min()           \n",
    "min"
   ]
  },
  {
   "cell_type": "markdown",
   "id": "53734148-5ac8-4192-b002-eac486bbbd00",
   "metadata": {
    "jupyter": {
     "source_hidden": true
    }
   },
   "source": [
    "## We fetched the data of the person who got the maximum and minimum salary package"
   ]
  },
  {
   "cell_type": "code",
   "execution_count": 99,
   "id": "74aca7e1-4ea0-475a-a6eb-f7942233b41d",
   "metadata": {
    "collapsed": true,
    "jupyter": {
     "outputs_hidden": true,
     "source_hidden": true
    }
   },
   "outputs": [
    {
     "name": "stdout",
     "output_type": "stream",
     "text": [
      "     sl_no gender  ssc_p    ssc_b  hsc_p    hsc_b     hsc_s  degree_p  \\\n",
      "119    120      M   60.8  Central   68.4  Central  Commerce      64.6   \n",
      "\n",
      "      degree_t workex  etest_p specialisation  mba_p  status    salary  \n",
      "119  Comm&Mgmt    Yes    82.66        Mkt&Fin  64.34  Placed  940000.0  \n"
     ]
    }
   ],
   "source": [
    "top_earner=df[df[\"salary\"]==max]\n",
    "print(top_earner)                          "
   ]
  },
  {
   "cell_type": "code",
   "execution_count": null,
   "id": "6cfc4a47-5e4e-4b9f-b6af-2e0c8a9f3c24",
   "metadata": {
    "jupyter": {
     "source_hidden": true
    },
    "scrolled": true
   },
   "outputs": [],
   "source": [
    "least_earner=df[df[\"salary\"]==min]\n",
    "print(least_earner)"
   ]
  },
  {
   "cell_type": "markdown",
   "id": "29276624-5c95-4107-a426-20f43594465a",
   "metadata": {
    "jupyter": {
     "source_hidden": true
    }
   },
   "source": [
    "## groups the data by gender and placement status, then counts the number of students in each group."
   ]
  },
  {
   "cell_type": "code",
   "execution_count": null,
   "id": "b881cec4-45bd-4d52-beba-8b92287eac3b",
   "metadata": {
    "jupyter": {
     "source_hidden": true
    }
   },
   "outputs": [],
   "source": [
    "df.groupby([\"gender\", \"status\"]).size()"
   ]
  },
  {
   "cell_type": "markdown",
   "id": "a2668c31-3185-499a-aee1-9bcc35851130",
   "metadata": {
    "jupyter": {
     "source_hidden": true
    }
   },
   "source": [
    "## counting the every column"
   ]
  },
  {
   "cell_type": "code",
   "execution_count": 91,
   "id": "6d92770a-957b-4683-874e-6597faaa1506",
   "metadata": {
    "collapsed": true,
    "jupyter": {
     "outputs_hidden": true,
     "source_hidden": true
    },
    "scrolled": true
   },
   "outputs": [
    {
     "data": {
      "text/plain": [
       "sl_no             215\n",
       "gender            215\n",
       "ssc_p             215\n",
       "ssc_b             215\n",
       "hsc_p             215\n",
       "hsc_b             215\n",
       "hsc_s             215\n",
       "degree_p          215\n",
       "degree_t          215\n",
       "workex            215\n",
       "etest_p           215\n",
       "specialisation    215\n",
       "mba_p             215\n",
       "status            215\n",
       "salary            148\n",
       "dtype: int64"
      ]
     },
     "execution_count": 91,
     "metadata": {},
     "output_type": "execute_result"
    }
   ],
   "source": [
    "df.count()        "
   ]
  },
  {
   "cell_type": "markdown",
   "id": "83e94e86-6eac-42b3-a473-d3d260c4cba6",
   "metadata": {
    "jupyter": {
     "source_hidden": true
    }
   },
   "source": [
    "## Finding the placement percentage of the college"
   ]
  },
  {
   "cell_type": "code",
   "execution_count": null,
   "id": "8521a487-cef3-455d-a217-1f838edc12ef",
   "metadata": {
    "jupyter": {
     "source_hidden": true
    }
   },
   "outputs": [],
   "source": [
    "placement_per=(148/215)*100\n",
    "print(\"the placement percentage of the college is:\",placement_per)"
   ]
  },
  {
   "cell_type": "markdown",
   "id": "1cf300c8-94f5-42eb-bee6-63d8ad415980",
   "metadata": {
    "jupyter": {
     "source_hidden": true
    }
   },
   "source": [
    "## fetching the data of the top 10 performers of the ETEST "
   ]
  },
  {
   "cell_type": "code",
   "execution_count": null,
   "id": "6161f3a9-7dcf-494e-a30d-bfcbbbbef159",
   "metadata": {
    "jupyter": {
     "source_hidden": true
    },
    "scrolled": true
   },
   "outputs": [],
   "source": [
    "top_etest=df.sort_values(\"etest_p\",ascending=False)\n",
    "top_etest.head(10)                                        #below are the top 10 performers of the etest_p"
   ]
  },
  {
   "cell_type": "markdown",
   "id": "b1678753-4519-406f-9a6a-56685b6fe0ce",
   "metadata": {
    "jupyter": {
     "source_hidden": true
    }
   },
   "source": [
    "# getting the data of placed and not placed students based on specialization"
   ]
  },
  {
   "cell_type": "markdown",
   "id": "299df7cf-8ba2-490a-867d-2faaa0fdd51f",
   "metadata": {
    "jupyter": {
     "source_hidden": true
    }
   },
   "source": [
    "## groups the data by specialisation and status, then counts"
   ]
  },
  {
   "cell_type": "code",
   "execution_count": 92,
   "id": "40b0b3a0-12b0-4289-bc40-10f263e92be0",
   "metadata": {
    "collapsed": true,
    "jupyter": {
     "outputs_hidden": true,
     "source_hidden": true
    },
    "scrolled": true
   },
   "outputs": [
    {
     "data": {
      "text/plain": [
       "specialisation  status    \n",
       "Mkt&Fin         Not Placed    25\n",
       "                Placed        95\n",
       "Mkt&HR          Not Placed    42\n",
       "                Placed        53\n",
       "dtype: int64"
      ]
     },
     "execution_count": 92,
     "metadata": {},
     "output_type": "execute_result"
    }
   ],
   "source": [
    "df.groupby([\"specialisation\",\"status\"]).size()     #here we are fetching the data of placement based on specialisation"
   ]
  },
  {
   "cell_type": "markdown",
   "id": "3265797e-aaaa-47de-968d-ebeb380e0ec6",
   "metadata": {
    "jupyter": {
     "source_hidden": true
    }
   },
   "source": [
    "# getting the data of placed and not placed students based on ssc_b"
   ]
  },
  {
   "cell_type": "code",
   "execution_count": 93,
   "id": "c9041fe1-f8fd-4e2c-bc3d-25129167d7c1",
   "metadata": {
    "collapsed": true,
    "jupyter": {
     "outputs_hidden": true,
     "source_hidden": true
    },
    "scrolled": true
   },
   "outputs": [
    {
     "data": {
      "text/plain": [
       "ssc_b    status    \n",
       "Central  Not Placed    38\n",
       "         Placed        78\n",
       "Others   Not Placed    29\n",
       "         Placed        70\n",
       "dtype: int64"
      ]
     },
     "execution_count": 93,
     "metadata": {},
     "output_type": "execute_result"
    }
   ],
   "source": [
    "df.groupby([\"ssc_b\",\"status\"]).size()           #here we are fetching the data of placement based on ssc_b"
   ]
  },
  {
   "cell_type": "markdown",
   "id": "3eb88eae-0662-4da1-809f-30a44de817ae",
   "metadata": {
    "jupyter": {
     "source_hidden": true
    }
   },
   "source": [
    "# getting the data of placed and not placed students based on work experience"
   ]
  },
  {
   "cell_type": "code",
   "execution_count": null,
   "id": "591dc56f-ef28-404d-ab82-4405c5e0f1eb",
   "metadata": {
    "jupyter": {
     "source_hidden": true
    },
    "scrolled": true
   },
   "outputs": [],
   "source": [
    "df.groupby([\"workex\",\"status\"]).size()         #here we are fetching the data of placement baased on work experience"
   ]
  },
  {
   "cell_type": "markdown",
   "id": "f7b09f53-d338-41a2-8598-000eecaeb7e3",
   "metadata": {
    "jupyter": {
     "source_hidden": true
    }
   },
   "source": [
    "# fetching the data of a person who is top in the MBA."
   ]
  },
  {
   "cell_type": "code",
   "execution_count": 94,
   "id": "b70c807b-c8d3-412d-91f0-a3bccce6328d",
   "metadata": {
    "collapsed": true,
    "jupyter": {
     "outputs_hidden": true,
     "source_hidden": true
    },
    "scrolled": true
   },
   "outputs": [
    {
     "name": "stdout",
     "output_type": "stream",
     "text": [
      "    sl_no gender specialisation  mba_p    salary\n",
      "19     20      M        Mkt&Fin  77.89  236000.0\n"
     ]
    }
   ],
   "source": [
    "top_mba=df[\"mba_p\"].max()\n",
    "top_mba_per=df[df[\"mba_p\"]==top_mba]                               #the person who got top score in mba\n",
    "print(top_mba_per[[\"sl_no\",\"gender\",\"specialisation\",\"mba_p\",\"salary\"]])"
   ]
  },
  {
   "cell_type": "code",
   "execution_count": null,
   "id": "c60f9fad-9de6-484b-b67c-34a6d6ca7439",
   "metadata": {
    "jupyter": {
     "source_hidden": true
    }
   },
   "outputs": [],
   "source": [
    "df[\"mba_p\"].describe()       #here we are calculating all the aggregate functions of mba_p"
   ]
  },
  {
   "cell_type": "markdown",
   "id": "02cb15f7-3491-49ad-8ae3-f93278b0ce4f",
   "metadata": {
    "jupyter": {
     "source_hidden": true
    }
   },
   "source": [
    "# finding the outlier"
   ]
  },
  {
   "cell_type": "code",
   "execution_count": 95,
   "id": "36fd3908-78a9-430b-8d7a-424929a5310e",
   "metadata": {
    "collapsed": true,
    "jupyter": {
     "outputs_hidden": true,
     "source_hidden": true
    },
    "scrolled": true
   },
   "outputs": [
    {
     "data": {
      "text/html": [
       "<div>\n",
       "<style scoped>\n",
       "    .dataframe tbody tr th:only-of-type {\n",
       "        vertical-align: middle;\n",
       "    }\n",
       "\n",
       "    .dataframe tbody tr th {\n",
       "        vertical-align: top;\n",
       "    }\n",
       "\n",
       "    .dataframe thead th {\n",
       "        text-align: right;\n",
       "    }\n",
       "</style>\n",
       "<table border=\"1\" class=\"dataframe\">\n",
       "  <thead>\n",
       "    <tr style=\"text-align: right;\">\n",
       "      <th></th>\n",
       "      <th>sl_no</th>\n",
       "      <th>gender</th>\n",
       "      <th>ssc_p</th>\n",
       "      <th>ssc_b</th>\n",
       "      <th>hsc_p</th>\n",
       "      <th>hsc_b</th>\n",
       "      <th>hsc_s</th>\n",
       "      <th>degree_p</th>\n",
       "      <th>degree_t</th>\n",
       "      <th>workex</th>\n",
       "      <th>etest_p</th>\n",
       "      <th>specialisation</th>\n",
       "      <th>mba_p</th>\n",
       "      <th>status</th>\n",
       "      <th>salary</th>\n",
       "    </tr>\n",
       "  </thead>\n",
       "  <tbody>\n",
       "  </tbody>\n",
       "</table>\n",
       "</div>"
      ],
      "text/plain": [
       "Empty DataFrame\n",
       "Columns: [sl_no, gender, ssc_p, ssc_b, hsc_p, hsc_b, hsc_s, degree_p, degree_t, workex, etest_p, specialisation, mba_p, status, salary]\n",
       "Index: []"
      ]
     },
     "execution_count": 95,
     "metadata": {},
     "output_type": "execute_result"
    }
   ],
   "source": [
    "salary_data=df[\"salary\"].dropna       #here we are removing the not placed students to find the outlier\n",
    "salary_data\n",
    "min1=df[\"salary\"].min()\n",
    "min1\n",
    "Q1=(25/100)*(215+1)\n",
    "Q1 \n",
    "med=df[\"salary\"].median() #here we are finding the median salary\n",
    "med\n",
    "Q3=(75/100)*(215+1)    # here the third quartile is 162nd position\n",
    "Q3\n",
    "max1=df[\"salary\"].max() #here we are finding the max salary\n",
    "max1 \n",
    "IQR=(Q3-Q1)  #we are finding the inter quartile range\n",
    "IQR\n",
    "\n",
    "# We have identified all the parameters present in the five-number summary.\n",
    "#now we need to find the lower fence and upper fence\n",
    "\n",
    "low_fence=Q1-1.5*IQR\n",
    "low_fence                      #finding lower fence\n",
    "upp_fence=Q3+1.5*IQR\n",
    "upp_fence                      #finding upper fence\n",
    "outliers=df[(df[\"salary\"]>upp_fence) & (df[\"salary\"]<low_fence)]\n",
    "outliers "
   ]
  },
  {
   "cell_type": "markdown",
   "id": "be2a77ae-974b-4c4d-8b6f-6e9a7970c3e0",
   "metadata": {
    "jupyter": {
     "source_hidden": true
    },
    "scrolled": true
   },
   "source": [
    "# count of the students who have work experience"
   ]
  },
  {
   "cell_type": "code",
   "execution_count": 96,
   "id": "8ff59fac-8ee2-44e4-a7df-80ca5ae1908d",
   "metadata": {
    "collapsed": true,
    "jupyter": {
     "outputs_hidden": true,
     "source_hidden": true
    }
   },
   "outputs": [
    {
     "data": {
      "text/html": [
       "<div>\n",
       "<style scoped>\n",
       "    .dataframe tbody tr th:only-of-type {\n",
       "        vertical-align: middle;\n",
       "    }\n",
       "\n",
       "    .dataframe tbody tr th {\n",
       "        vertical-align: top;\n",
       "    }\n",
       "\n",
       "    .dataframe thead th {\n",
       "        text-align: right;\n",
       "    }\n",
       "</style>\n",
       "<table border=\"1\" class=\"dataframe\">\n",
       "  <thead>\n",
       "    <tr style=\"text-align: right;\">\n",
       "      <th>salary</th>\n",
       "      <th>200000.0</th>\n",
       "      <th>204000.0</th>\n",
       "      <th>210000.0</th>\n",
       "      <th>216000.0</th>\n",
       "      <th>218000.0</th>\n",
       "      <th>220000.0</th>\n",
       "      <th>225000.0</th>\n",
       "      <th>230000.0</th>\n",
       "      <th>231000.0</th>\n",
       "      <th>233000.0</th>\n",
       "      <th>...</th>\n",
       "      <th>393000.0</th>\n",
       "      <th>400000.0</th>\n",
       "      <th>411000.0</th>\n",
       "      <th>420000.0</th>\n",
       "      <th>425000.0</th>\n",
       "      <th>450000.0</th>\n",
       "      <th>500000.0</th>\n",
       "      <th>650000.0</th>\n",
       "      <th>690000.0</th>\n",
       "      <th>940000.0</th>\n",
       "    </tr>\n",
       "    <tr>\n",
       "      <th>workex</th>\n",
       "      <th></th>\n",
       "      <th></th>\n",
       "      <th></th>\n",
       "      <th></th>\n",
       "      <th></th>\n",
       "      <th></th>\n",
       "      <th></th>\n",
       "      <th></th>\n",
       "      <th></th>\n",
       "      <th></th>\n",
       "      <th></th>\n",
       "      <th></th>\n",
       "      <th></th>\n",
       "      <th></th>\n",
       "      <th></th>\n",
       "      <th></th>\n",
       "      <th></th>\n",
       "      <th></th>\n",
       "      <th></th>\n",
       "      <th></th>\n",
       "      <th></th>\n",
       "    </tr>\n",
       "  </thead>\n",
       "  <tbody>\n",
       "    <tr>\n",
       "      <th>No</th>\n",
       "      <td>3</td>\n",
       "      <td>1</td>\n",
       "      <td>1</td>\n",
       "      <td>3</td>\n",
       "      <td>2</td>\n",
       "      <td>4</td>\n",
       "      <td>1</td>\n",
       "      <td>2</td>\n",
       "      <td>1</td>\n",
       "      <td>1</td>\n",
       "      <td>...</td>\n",
       "      <td>1</td>\n",
       "      <td>2</td>\n",
       "      <td>1</td>\n",
       "      <td>0</td>\n",
       "      <td>1</td>\n",
       "      <td>1</td>\n",
       "      <td>1</td>\n",
       "      <td>0</td>\n",
       "      <td>0</td>\n",
       "      <td>0</td>\n",
       "    </tr>\n",
       "    <tr>\n",
       "      <th>Yes</th>\n",
       "      <td>3</td>\n",
       "      <td>1</td>\n",
       "      <td>3</td>\n",
       "      <td>0</td>\n",
       "      <td>0</td>\n",
       "      <td>1</td>\n",
       "      <td>0</td>\n",
       "      <td>0</td>\n",
       "      <td>0</td>\n",
       "      <td>0</td>\n",
       "      <td>...</td>\n",
       "      <td>0</td>\n",
       "      <td>2</td>\n",
       "      <td>0</td>\n",
       "      <td>1</td>\n",
       "      <td>0</td>\n",
       "      <td>0</td>\n",
       "      <td>2</td>\n",
       "      <td>1</td>\n",
       "      <td>1</td>\n",
       "      <td>1</td>\n",
       "    </tr>\n",
       "  </tbody>\n",
       "</table>\n",
       "<p>2 rows × 45 columns</p>\n",
       "</div>"
      ],
      "text/plain": [
       "salary  200000.0  204000.0  210000.0  216000.0  218000.0  220000.0  225000.0  \\\n",
       "workex                                                                         \n",
       "No             3         1         1         3         2         4         1   \n",
       "Yes            3         1         3         0         0         1         0   \n",
       "\n",
       "salary  230000.0  231000.0  233000.0  ...  393000.0  400000.0  411000.0  \\\n",
       "workex                                ...                                 \n",
       "No             2         1         1  ...         1         2         1   \n",
       "Yes            0         0         0  ...         0         2         0   \n",
       "\n",
       "salary  420000.0  425000.0  450000.0  500000.0  650000.0  690000.0  940000.0  \n",
       "workex                                                                        \n",
       "No             0         1         1         1         0         0         0  \n",
       "Yes            1         0         0         2         1         1         1  \n",
       "\n",
       "[2 rows x 45 columns]"
      ]
     },
     "execution_count": 96,
     "metadata": {},
     "output_type": "execute_result"
    }
   ],
   "source": [
    "pd.crosstab(df[\"workex\"],df[\"salary\"]) "
   ]
  },
  {
   "cell_type": "markdown",
   "id": "c806d669-b866-4a82-a842-a358bc58c37a",
   "metadata": {
    "jupyter": {
     "source_hidden": true
    }
   },
   "source": [
    "# count of the students from different specialisations and their salaries "
   ]
  },
  {
   "cell_type": "code",
   "execution_count": 97,
   "id": "36559fca-f482-422d-b44a-b7f55229258f",
   "metadata": {
    "collapsed": true,
    "jupyter": {
     "outputs_hidden": true,
     "source_hidden": true
    },
    "scrolled": true
   },
   "outputs": [
    {
     "data": {
      "text/html": [
       "<div>\n",
       "<style scoped>\n",
       "    .dataframe tbody tr th:only-of-type {\n",
       "        vertical-align: middle;\n",
       "    }\n",
       "\n",
       "    .dataframe tbody tr th {\n",
       "        vertical-align: top;\n",
       "    }\n",
       "\n",
       "    .dataframe thead th {\n",
       "        text-align: right;\n",
       "    }\n",
       "</style>\n",
       "<table border=\"1\" class=\"dataframe\">\n",
       "  <thead>\n",
       "    <tr style=\"text-align: right;\">\n",
       "      <th>salary</th>\n",
       "      <th>200000.0</th>\n",
       "      <th>204000.0</th>\n",
       "      <th>210000.0</th>\n",
       "      <th>216000.0</th>\n",
       "      <th>218000.0</th>\n",
       "      <th>220000.0</th>\n",
       "      <th>225000.0</th>\n",
       "      <th>230000.0</th>\n",
       "      <th>231000.0</th>\n",
       "      <th>233000.0</th>\n",
       "      <th>...</th>\n",
       "      <th>393000.0</th>\n",
       "      <th>400000.0</th>\n",
       "      <th>411000.0</th>\n",
       "      <th>420000.0</th>\n",
       "      <th>425000.0</th>\n",
       "      <th>450000.0</th>\n",
       "      <th>500000.0</th>\n",
       "      <th>650000.0</th>\n",
       "      <th>690000.0</th>\n",
       "      <th>940000.0</th>\n",
       "    </tr>\n",
       "    <tr>\n",
       "      <th>specialisation</th>\n",
       "      <th></th>\n",
       "      <th></th>\n",
       "      <th></th>\n",
       "      <th></th>\n",
       "      <th></th>\n",
       "      <th></th>\n",
       "      <th></th>\n",
       "      <th></th>\n",
       "      <th></th>\n",
       "      <th></th>\n",
       "      <th></th>\n",
       "      <th></th>\n",
       "      <th></th>\n",
       "      <th></th>\n",
       "      <th></th>\n",
       "      <th></th>\n",
       "      <th></th>\n",
       "      <th></th>\n",
       "      <th></th>\n",
       "      <th></th>\n",
       "      <th></th>\n",
       "    </tr>\n",
       "  </thead>\n",
       "  <tbody>\n",
       "    <tr>\n",
       "      <th>Mkt&amp;Fin</th>\n",
       "      <td>3</td>\n",
       "      <td>1</td>\n",
       "      <td>2</td>\n",
       "      <td>2</td>\n",
       "      <td>2</td>\n",
       "      <td>3</td>\n",
       "      <td>0</td>\n",
       "      <td>2</td>\n",
       "      <td>1</td>\n",
       "      <td>0</td>\n",
       "      <td>...</td>\n",
       "      <td>1</td>\n",
       "      <td>2</td>\n",
       "      <td>1</td>\n",
       "      <td>1</td>\n",
       "      <td>1</td>\n",
       "      <td>0</td>\n",
       "      <td>3</td>\n",
       "      <td>1</td>\n",
       "      <td>1</td>\n",
       "      <td>1</td>\n",
       "    </tr>\n",
       "    <tr>\n",
       "      <th>Mkt&amp;HR</th>\n",
       "      <td>3</td>\n",
       "      <td>1</td>\n",
       "      <td>2</td>\n",
       "      <td>1</td>\n",
       "      <td>0</td>\n",
       "      <td>2</td>\n",
       "      <td>1</td>\n",
       "      <td>0</td>\n",
       "      <td>0</td>\n",
       "      <td>1</td>\n",
       "      <td>...</td>\n",
       "      <td>0</td>\n",
       "      <td>2</td>\n",
       "      <td>0</td>\n",
       "      <td>0</td>\n",
       "      <td>0</td>\n",
       "      <td>1</td>\n",
       "      <td>0</td>\n",
       "      <td>0</td>\n",
       "      <td>0</td>\n",
       "      <td>0</td>\n",
       "    </tr>\n",
       "  </tbody>\n",
       "</table>\n",
       "<p>2 rows × 45 columns</p>\n",
       "</div>"
      ],
      "text/plain": [
       "salary          200000.0  204000.0  210000.0  216000.0  218000.0  220000.0  \\\n",
       "specialisation                                                               \n",
       "Mkt&Fin                3         1         2         2         2         3   \n",
       "Mkt&HR                 3         1         2         1         0         2   \n",
       "\n",
       "salary          225000.0  230000.0  231000.0  233000.0  ...  393000.0  \\\n",
       "specialisation                                          ...             \n",
       "Mkt&Fin                0         2         1         0  ...         1   \n",
       "Mkt&HR                 1         0         0         1  ...         0   \n",
       "\n",
       "salary          400000.0  411000.0  420000.0  425000.0  450000.0  500000.0  \\\n",
       "specialisation                                                               \n",
       "Mkt&Fin                2         1         1         1         0         3   \n",
       "Mkt&HR                 2         0         0         0         1         0   \n",
       "\n",
       "salary          650000.0  690000.0  940000.0  \n",
       "specialisation                                \n",
       "Mkt&Fin                1         1         1  \n",
       "Mkt&HR                 0         0         0  \n",
       "\n",
       "[2 rows x 45 columns]"
      ]
     },
     "execution_count": 97,
     "metadata": {},
     "output_type": "execute_result"
    }
   ],
   "source": [
    "pd.crosstab(df[\"specialisation\"],df[\"salary\"])   #count of the students from different specialisation with salaries"
   ]
  },
  {
   "cell_type": "markdown",
   "id": "c8fed6d2-cba4-4746-bc5e-0b0a7f24682a",
   "metadata": {
    "jupyter": {
     "source_hidden": true
    }
   },
   "source": [
    "# comparing averages of ssc_p,hsc_p,degree_p,etest_p,mba_p"
   ]
  },
  {
   "cell_type": "code",
   "execution_count": 98,
   "id": "a841abdf-853e-4fe4-bb1f-e7c05643a3c1",
   "metadata": {
    "collapsed": true,
    "jupyter": {
     "outputs_hidden": true,
     "source_hidden": true
    },
    "scrolled": true
   },
   "outputs": [
    {
     "data": {
      "text/html": [
       "<div>\n",
       "<style scoped>\n",
       "    .dataframe tbody tr th:only-of-type {\n",
       "        vertical-align: middle;\n",
       "    }\n",
       "\n",
       "    .dataframe tbody tr th {\n",
       "        vertical-align: top;\n",
       "    }\n",
       "\n",
       "    .dataframe thead th {\n",
       "        text-align: right;\n",
       "    }\n",
       "</style>\n",
       "<table border=\"1\" class=\"dataframe\">\n",
       "  <thead>\n",
       "    <tr style=\"text-align: right;\">\n",
       "      <th></th>\n",
       "      <th>ssc_p</th>\n",
       "      <th>hsc_p</th>\n",
       "      <th>degree_p</th>\n",
       "      <th>etest_p</th>\n",
       "      <th>mba_p</th>\n",
       "    </tr>\n",
       "    <tr>\n",
       "      <th>status</th>\n",
       "      <th></th>\n",
       "      <th></th>\n",
       "      <th></th>\n",
       "      <th></th>\n",
       "      <th></th>\n",
       "    </tr>\n",
       "  </thead>\n",
       "  <tbody>\n",
       "    <tr>\n",
       "      <th>Not Placed</th>\n",
       "      <td>57.544030</td>\n",
       "      <td>58.395522</td>\n",
       "      <td>61.134179</td>\n",
       "      <td>69.587910</td>\n",
       "      <td>61.612836</td>\n",
       "    </tr>\n",
       "    <tr>\n",
       "      <th>Placed</th>\n",
       "      <td>71.721486</td>\n",
       "      <td>69.926554</td>\n",
       "      <td>68.740541</td>\n",
       "      <td>73.238041</td>\n",
       "      <td>62.579392</td>\n",
       "    </tr>\n",
       "  </tbody>\n",
       "</table>\n",
       "</div>"
      ],
      "text/plain": [
       "                ssc_p      hsc_p   degree_p    etest_p      mba_p\n",
       "status                                                           \n",
       "Not Placed  57.544030  58.395522  61.134179  69.587910  61.612836\n",
       "Placed      71.721486  69.926554  68.740541  73.238041  62.579392"
      ]
     },
     "execution_count": 98,
     "metadata": {},
     "output_type": "execute_result"
    }
   ],
   "source": [
    "df.groupby(\"status\")[[\"ssc_p\",\"hsc_p\",\"degree_p\",\"etest_p\",\"mba_p\"]].mean()     "
   ]
  }
 ],
 "metadata": {
  "kernelspec": {
   "display_name": "Python 3 (ipykernel)",
   "language": "python",
   "name": "python3"
  },
  "language_info": {
   "codemirror_mode": {
    "name": "ipython",
    "version": 3
   },
   "file_extension": ".py",
   "mimetype": "text/x-python",
   "name": "python",
   "nbconvert_exporter": "python",
   "pygments_lexer": "ipython3",
   "version": "3.12.7"
  }
 },
 "nbformat": 4,
 "nbformat_minor": 5
}
